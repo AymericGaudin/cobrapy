{
 "cells": [
  {
   "cell_type": "markdown",
   "metadata": {},
   "source": [
    "# Consistency testing"
   ]
  },
  {
   "cell_type": "markdown",
   "metadata": {},
   "source": [
    "For most problems, multiple flux states can achieve the same optimum and thus we try to obtain a consistent network. By this, we mean that there will be mulitple blocked reactions in the network, which gives rise to this inconsistency. To solve this problem, we use algorithms which can detect all the blocked reactions and also give us consistent networks."
   ]
  },
  {
   "cell_type": "markdown",
   "metadata": {},
   "source": [
    "Let us take a toy network, like so:\n",
    "\n",
    "```\n",
    "v1: --> 2A\n",
    "v2: A <--> B\n",
    "v3: A --> D\n",
    "v4: A --> C\n",
    "v5: C --> D\n",
    "v6: D -->\n",
    "```\n",
    "\n",
    "Here, `v{x} (x = 1, 2, 3, 4, 5, 6)` represent the flux carried by the reactions as shown above."
   ]
  },
  {
   "cell_type": "code",
   "execution_count": 1,
   "metadata": {},
   "outputs": [
    {
     "name": "stdout",
     "output_type": "stream",
     "text": [
      "unknown metabolite 'A' created\n",
      "unknown metabolite 'B' created\n",
      "unknown metabolite 'D' created\n",
      "unknown metabolite 'C' created\n"
     ]
    }
   ],
   "source": [
    "import cobra\n",
    "\n",
    "test_model = cobra.Model(\"test_model\")\n",
    "r1 = cobra.Reaction(\"r1\")\n",
    "r2 = cobra.Reaction(\"r2\")\n",
    "r3 = cobra.Reaction(\"r3\")\n",
    "r4 = cobra.Reaction(\"r4\")\n",
    "r5 = cobra.Reaction(\"r5\")\n",
    "r6 = cobra.Reaction(\"r6\")\n",
    "\n",
    "test_model.add_reactions([r1, r2, r3, r4, r5, r6])\n",
    "\n",
    "r1.reaction = \"-> 2 A\"\n",
    "r2.reaction = \"A <-> B\"\n",
    "r3.reaction = \"A -> D\"\n",
    "r4.reaction = \"A -> C\"\n",
    "r5.reaction = \"C -> D\"\n",
    "r6.reaction = \"D ->\"\n",
    "\n",
    "r1.bounds = (0.0, 3.0)\n",
    "r2.bounds = (-3.0, 3.0)\n",
    "r3.bounds = (0.0, 3.0)\n",
    "r4.bounds = (0.0, 3.0)\n",
    "r5.bounds = (0.0, 3.0)\n",
    "r6.bounds = (0.0, 3.0)\n",
    "\n",
    "test_model.objective = r6"
   ]
  },
  {
   "cell_type": "markdown",
   "metadata": {},
   "source": [
    "## Using FVA"
   ]
  },
  {
   "cell_type": "markdown",
   "metadata": {},
   "source": [
    "The first approach we can follow is to use FVA (Flux Variability Analysis) which among many other applications, is used to detect blocked reactions. The `cobra.flux_analysis.find_blocked_reactions()` function will return a list of all the blocked reactions obtained using FVA."
   ]
  },
  {
   "cell_type": "code",
   "execution_count": 2,
   "metadata": {},
   "outputs": [
    {
     "data": {
      "text/plain": [
       "['r2']"
      ]
     },
     "execution_count": 2,
     "metadata": {},
     "output_type": "execute_result"
    }
   ],
   "source": [
    "cobra.flux_analysis.find_blocked_reactions(test_model)"
   ]
  },
  {
   "cell_type": "markdown",
   "metadata": {},
   "source": [
    "As we see above, we are able to obtain the blocked reaction, which in this case is `r2`."
   ]
  },
  {
   "cell_type": "markdown",
   "metadata": {},
   "source": [
    "## Using FASTCC"
   ]
  },
  {
   "cell_type": "markdown",
   "metadata": {},
   "source": [
    "The second approach to obtaining consistent network in `cobrapy` is to use FASTCC. Using this method, you can expect to efficiently obtain an accurate consistent network. For more details regarding the algorithm, please see [Vlassis N, Pacheco MP, Sauter T (2014)](https://journals.plos.org/ploscompbiol/article?id=10.1371/journal.pcbi.1003424)."
   ]
  },
  {
   "cell_type": "code",
   "execution_count": 3,
   "metadata": {},
   "outputs": [
    {
     "data": {
      "text/plain": [
       "[<Reaction r1 at 0x111fac2b0>,\n",
       " <Reaction r3 at 0x111fac320>,\n",
       " <Reaction r4 at 0x111fac198>,\n",
       " <Reaction r5 at 0x111fac208>,\n",
       " <Reaction r6 at 0x111fac240>]"
      ]
     },
     "execution_count": 3,
     "metadata": {},
     "output_type": "execute_result"
    }
   ],
   "source": [
    "consistent_model = cobra.flux_analysis.fastcc(test_model)\n",
    "consistent_model.reactions"
   ]
  },
  {
   "cell_type": "markdown",
   "metadata": {},
   "source": [
    "Similar to the FVA approach, we are able to identify that `r2` is indeed the blocked reaction."
   ]
  }
 ],
 "metadata": {
  "kernelspec": {
   "display_name": "Python 3",
   "language": "python",
   "name": "python3"
  },
  "language_info": {
   "codemirror_mode": {
    "name": "ipython",
    "version": 3
   },
   "file_extension": ".py",
   "mimetype": "text/x-python",
   "name": "python",
   "nbconvert_exporter": "python",
   "pygments_lexer": "ipython3",
   "version": "3.7.0"
  }
 },
 "nbformat": 4,
 "nbformat_minor": 2
}
